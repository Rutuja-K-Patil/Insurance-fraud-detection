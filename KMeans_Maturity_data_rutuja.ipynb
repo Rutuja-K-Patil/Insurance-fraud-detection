{
 "cells": [
  {
   "cell_type": "code",
   "execution_count": 1,
   "id": "f4bc4062-c1ab-4baa-9c0a-72684328fce2",
   "metadata": {},
   "outputs": [],
   "source": [
    "#Import libraries\n",
    "import numpy as np\n",
    "import pandas as pd\n",
    "import matplotlib.pyplot as plt\n",
    "\n",
    "import matplotlib.pyplot as plt # for data visualization\n",
    "import seaborn as sns # for statistical data visualization\n",
    "%matplotlib inline"
   ]
  },
  {
   "cell_type": "code",
   "execution_count": 2,
   "id": "c564d692-4141-4c5b-abf4-cd4c0141307c",
   "metadata": {},
   "outputs": [],
   "source": [
    "df = pd.read_excel(\"Maturity_Data.xlsx\")"
   ]
  },
  {
   "cell_type": "code",
   "execution_count": 3,
   "id": "71f07c6d-00d9-4767-8a50-7706725f134b",
   "metadata": {},
   "outputs": [
    {
     "data": {
      "text/html": [
       "<div>\n",
       "<style scoped>\n",
       "    .dataframe tbody tr th:only-of-type {\n",
       "        vertical-align: middle;\n",
       "    }\n",
       "\n",
       "    .dataframe tbody tr th {\n",
       "        vertical-align: top;\n",
       "    }\n",
       "\n",
       "    .dataframe thead th {\n",
       "        text-align: right;\n",
       "    }\n",
       "</style>\n",
       "<table border=\"1\" class=\"dataframe\">\n",
       "  <thead>\n",
       "    <tr style=\"text-align: right;\">\n",
       "      <th></th>\n",
       "      <th>Policy Number</th>\n",
       "      <th>Branch</th>\n",
       "      <th>DOC</th>\n",
       "      <th>Claim Due Date</th>\n",
       "      <th>Plan</th>\n",
       "      <th>Policy Term</th>\n",
       "      <th>Claim Amount</th>\n",
       "      <th>Vested Bonus</th>\n",
       "      <th>Interim Bonus</th>\n",
       "      <th>Final Additional Bonus</th>\n",
       "      <th>Premium</th>\n",
       "      <th>Mode</th>\n",
       "      <th>Master FUP</th>\n",
       "      <th>Anomaly Flag</th>\n",
       "    </tr>\n",
       "  </thead>\n",
       "  <tbody>\n",
       "    <tr>\n",
       "      <th>0</th>\n",
       "      <td>100614068</td>\n",
       "      <td>4015</td>\n",
       "      <td>2004-06-09</td>\n",
       "      <td>2007-03-08</td>\n",
       "      <td>14</td>\n",
       "      <td>20</td>\n",
       "      <td>38563.221899</td>\n",
       "      <td>33701.647606</td>\n",
       "      <td>9339.244017</td>\n",
       "      <td>6089.621520</td>\n",
       "      <td>4063.435561</td>\n",
       "      <td>3</td>\n",
       "      <td>2001-12-01</td>\n",
       "      <td>0</td>\n",
       "    </tr>\n",
       "    <tr>\n",
       "      <th>1</th>\n",
       "      <td>102314313</td>\n",
       "      <td>4015</td>\n",
       "      <td>2012-08-29</td>\n",
       "      <td>2014-02-21</td>\n",
       "      <td>111</td>\n",
       "      <td>8</td>\n",
       "      <td>51666.039139</td>\n",
       "      <td>48711.268825</td>\n",
       "      <td>8972.874719</td>\n",
       "      <td>8406.386946</td>\n",
       "      <td>3294.850477</td>\n",
       "      <td>3</td>\n",
       "      <td>1997-12-01</td>\n",
       "      <td>0</td>\n",
       "    </tr>\n",
       "    <tr>\n",
       "      <th>2</th>\n",
       "      <td>103484630</td>\n",
       "      <td>4015</td>\n",
       "      <td>1991-11-16</td>\n",
       "      <td>2007-01-24</td>\n",
       "      <td>111</td>\n",
       "      <td>20</td>\n",
       "      <td>88906.524820</td>\n",
       "      <td>33410.777170</td>\n",
       "      <td>5533.966318</td>\n",
       "      <td>3261.268054</td>\n",
       "      <td>1372.759863</td>\n",
       "      <td>12</td>\n",
       "      <td>2002-12-01</td>\n",
       "      <td>0</td>\n",
       "    </tr>\n",
       "    <tr>\n",
       "      <th>3</th>\n",
       "      <td>103807155</td>\n",
       "      <td>4015</td>\n",
       "      <td>1992-10-13</td>\n",
       "      <td>2010-05-25</td>\n",
       "      <td>106</td>\n",
       "      <td>20</td>\n",
       "      <td>115663.536961</td>\n",
       "      <td>35299.418047</td>\n",
       "      <td>3548.046346</td>\n",
       "      <td>394.057076</td>\n",
       "      <td>3083.742767</td>\n",
       "      <td>3</td>\n",
       "      <td>2002-12-01</td>\n",
       "      <td>0</td>\n",
       "    </tr>\n",
       "    <tr>\n",
       "      <th>4</th>\n",
       "      <td>106977991</td>\n",
       "      <td>4015</td>\n",
       "      <td>1991-09-13</td>\n",
       "      <td>1998-08-05</td>\n",
       "      <td>75</td>\n",
       "      <td>15</td>\n",
       "      <td>82153.702496</td>\n",
       "      <td>32676.704921</td>\n",
       "      <td>7189.802411</td>\n",
       "      <td>7869.917926</td>\n",
       "      <td>2106.719340</td>\n",
       "      <td>6</td>\n",
       "      <td>2012-03-01</td>\n",
       "      <td>0</td>\n",
       "    </tr>\n",
       "    <tr>\n",
       "      <th>...</th>\n",
       "      <td>...</td>\n",
       "      <td>...</td>\n",
       "      <td>...</td>\n",
       "      <td>...</td>\n",
       "      <td>...</td>\n",
       "      <td>...</td>\n",
       "      <td>...</td>\n",
       "      <td>...</td>\n",
       "      <td>...</td>\n",
       "      <td>...</td>\n",
       "      <td>...</td>\n",
       "      <td>...</td>\n",
       "      <td>...</td>\n",
       "      <td>...</td>\n",
       "    </tr>\n",
       "    <tr>\n",
       "      <th>655</th>\n",
       "      <td>992994062</td>\n",
       "      <td>4015</td>\n",
       "      <td>2007-11-06</td>\n",
       "      <td>2014-05-05</td>\n",
       "      <td>801</td>\n",
       "      <td>20</td>\n",
       "      <td>28307.261217</td>\n",
       "      <td>26322.799270</td>\n",
       "      <td>9544.529839</td>\n",
       "      <td>8895.742139</td>\n",
       "      <td>3974.582725</td>\n",
       "      <td>3</td>\n",
       "      <td>2003-09-01</td>\n",
       "      <td>0</td>\n",
       "    </tr>\n",
       "    <tr>\n",
       "      <th>656</th>\n",
       "      <td>995226828</td>\n",
       "      <td>4015</td>\n",
       "      <td>1990-10-04</td>\n",
       "      <td>2002-04-22</td>\n",
       "      <td>111</td>\n",
       "      <td>15</td>\n",
       "      <td>135585.986650</td>\n",
       "      <td>5754.263335</td>\n",
       "      <td>2457.847792</td>\n",
       "      <td>1312.057764</td>\n",
       "      <td>1385.207547</td>\n",
       "      <td>12</td>\n",
       "      <td>1997-12-01</td>\n",
       "      <td>0</td>\n",
       "    </tr>\n",
       "    <tr>\n",
       "      <th>657</th>\n",
       "      <td>995619255</td>\n",
       "      <td>4015</td>\n",
       "      <td>1992-06-13</td>\n",
       "      <td>2009-05-07</td>\n",
       "      <td>801</td>\n",
       "      <td>8</td>\n",
       "      <td>119383.675764</td>\n",
       "      <td>3047.881855</td>\n",
       "      <td>2687.171521</td>\n",
       "      <td>737.093896</td>\n",
       "      <td>1584.796212</td>\n",
       "      <td>3</td>\n",
       "      <td>1997-12-01</td>\n",
       "      <td>0</td>\n",
       "    </tr>\n",
       "    <tr>\n",
       "      <th>658</th>\n",
       "      <td>997677788</td>\n",
       "      <td>4015</td>\n",
       "      <td>2017-08-13</td>\n",
       "      <td>2008-11-04</td>\n",
       "      <td>111</td>\n",
       "      <td>15</td>\n",
       "      <td>34245.539340</td>\n",
       "      <td>12329.503417</td>\n",
       "      <td>9509.902621</td>\n",
       "      <td>4185.656861</td>\n",
       "      <td>4200.645575</td>\n",
       "      <td>12</td>\n",
       "      <td>2012-03-01</td>\n",
       "      <td>0</td>\n",
       "    </tr>\n",
       "    <tr>\n",
       "      <th>659</th>\n",
       "      <td>997835424</td>\n",
       "      <td>4015</td>\n",
       "      <td>1996-01-15</td>\n",
       "      <td>2015-08-01</td>\n",
       "      <td>75</td>\n",
       "      <td>20</td>\n",
       "      <td>59483.283148</td>\n",
       "      <td>22964.141837</td>\n",
       "      <td>9940.657360</td>\n",
       "      <td>8025.802829</td>\n",
       "      <td>4182.606997</td>\n",
       "      <td>3</td>\n",
       "      <td>1997-12-01</td>\n",
       "      <td>1</td>\n",
       "    </tr>\n",
       "  </tbody>\n",
       "</table>\n",
       "<p>660 rows × 14 columns</p>\n",
       "</div>"
      ],
      "text/plain": [
       "     Policy Number  Branch        DOC Claim Due Date  Plan  Policy Term  \\\n",
       "0        100614068    4015 2004-06-09     2007-03-08    14           20   \n",
       "1        102314313    4015 2012-08-29     2014-02-21   111            8   \n",
       "2        103484630    4015 1991-11-16     2007-01-24   111           20   \n",
       "3        103807155    4015 1992-10-13     2010-05-25   106           20   \n",
       "4        106977991    4015 1991-09-13     1998-08-05    75           15   \n",
       "..             ...     ...        ...            ...   ...          ...   \n",
       "655      992994062    4015 2007-11-06     2014-05-05   801           20   \n",
       "656      995226828    4015 1990-10-04     2002-04-22   111           15   \n",
       "657      995619255    4015 1992-06-13     2009-05-07   801            8   \n",
       "658      997677788    4015 2017-08-13     2008-11-04   111           15   \n",
       "659      997835424    4015 1996-01-15     2015-08-01    75           20   \n",
       "\n",
       "      Claim Amount  Vested Bonus  Interim Bonus  Final Additional Bonus  \\\n",
       "0     38563.221899  33701.647606    9339.244017             6089.621520   \n",
       "1     51666.039139  48711.268825    8972.874719             8406.386946   \n",
       "2     88906.524820  33410.777170    5533.966318             3261.268054   \n",
       "3    115663.536961  35299.418047    3548.046346              394.057076   \n",
       "4     82153.702496  32676.704921    7189.802411             7869.917926   \n",
       "..             ...           ...            ...                     ...   \n",
       "655   28307.261217  26322.799270    9544.529839             8895.742139   \n",
       "656  135585.986650   5754.263335    2457.847792             1312.057764   \n",
       "657  119383.675764   3047.881855    2687.171521              737.093896   \n",
       "658   34245.539340  12329.503417    9509.902621             4185.656861   \n",
       "659   59483.283148  22964.141837    9940.657360             8025.802829   \n",
       "\n",
       "         Premium  Mode Master FUP  Anomaly Flag  \n",
       "0    4063.435561     3 2001-12-01             0  \n",
       "1    3294.850477     3 1997-12-01             0  \n",
       "2    1372.759863    12 2002-12-01             0  \n",
       "3    3083.742767     3 2002-12-01             0  \n",
       "4    2106.719340     6 2012-03-01             0  \n",
       "..           ...   ...        ...           ...  \n",
       "655  3974.582725     3 2003-09-01             0  \n",
       "656  1385.207547    12 1997-12-01             0  \n",
       "657  1584.796212     3 1997-12-01             0  \n",
       "658  4200.645575    12 2012-03-01             0  \n",
       "659  4182.606997     3 1997-12-01             1  \n",
       "\n",
       "[660 rows x 14 columns]"
      ]
     },
     "execution_count": 3,
     "metadata": {},
     "output_type": "execute_result"
    }
   ],
   "source": [
    "df"
   ]
  },
  {
   "cell_type": "markdown",
   "id": "7b4f9850-3a46-4c0e-8fc3-040b2f2b5532",
   "metadata": {},
   "source": [
    "# EDA"
   ]
  },
  {
   "cell_type": "code",
   "execution_count": 4,
   "id": "cc234845-5b07-4133-a477-6c3f16bf5d58",
   "metadata": {},
   "outputs": [
    {
     "data": {
      "text/plain": [
       "(660, 14)"
      ]
     },
     "execution_count": 4,
     "metadata": {},
     "output_type": "execute_result"
    }
   ],
   "source": [
    "df.shape"
   ]
  },
  {
   "cell_type": "code",
   "execution_count": 5,
   "id": "076fb8bc-e1fb-486d-8c5c-8723abc90a0e",
   "metadata": {},
   "outputs": [
    {
     "data": {
      "text/html": [
       "<div>\n",
       "<style scoped>\n",
       "    .dataframe tbody tr th:only-of-type {\n",
       "        vertical-align: middle;\n",
       "    }\n",
       "\n",
       "    .dataframe tbody tr th {\n",
       "        vertical-align: top;\n",
       "    }\n",
       "\n",
       "    .dataframe thead th {\n",
       "        text-align: right;\n",
       "    }\n",
       "</style>\n",
       "<table border=\"1\" class=\"dataframe\">\n",
       "  <thead>\n",
       "    <tr style=\"text-align: right;\">\n",
       "      <th></th>\n",
       "      <th>Policy Number</th>\n",
       "      <th>Branch</th>\n",
       "      <th>DOC</th>\n",
       "      <th>Claim Due Date</th>\n",
       "      <th>Plan</th>\n",
       "      <th>Policy Term</th>\n",
       "      <th>Claim Amount</th>\n",
       "      <th>Vested Bonus</th>\n",
       "      <th>Interim Bonus</th>\n",
       "      <th>Final Additional Bonus</th>\n",
       "      <th>Premium</th>\n",
       "      <th>Mode</th>\n",
       "      <th>Master FUP</th>\n",
       "      <th>Anomaly Flag</th>\n",
       "    </tr>\n",
       "  </thead>\n",
       "  <tbody>\n",
       "    <tr>\n",
       "      <th>0</th>\n",
       "      <td>100614068</td>\n",
       "      <td>4015</td>\n",
       "      <td>2004-06-09</td>\n",
       "      <td>2007-03-08</td>\n",
       "      <td>14</td>\n",
       "      <td>20</td>\n",
       "      <td>38563.221899</td>\n",
       "      <td>33701.647606</td>\n",
       "      <td>9339.244017</td>\n",
       "      <td>6089.621520</td>\n",
       "      <td>4063.435561</td>\n",
       "      <td>3</td>\n",
       "      <td>2001-12-01</td>\n",
       "      <td>0</td>\n",
       "    </tr>\n",
       "    <tr>\n",
       "      <th>1</th>\n",
       "      <td>102314313</td>\n",
       "      <td>4015</td>\n",
       "      <td>2012-08-29</td>\n",
       "      <td>2014-02-21</td>\n",
       "      <td>111</td>\n",
       "      <td>8</td>\n",
       "      <td>51666.039139</td>\n",
       "      <td>48711.268825</td>\n",
       "      <td>8972.874719</td>\n",
       "      <td>8406.386946</td>\n",
       "      <td>3294.850477</td>\n",
       "      <td>3</td>\n",
       "      <td>1997-12-01</td>\n",
       "      <td>0</td>\n",
       "    </tr>\n",
       "    <tr>\n",
       "      <th>2</th>\n",
       "      <td>103484630</td>\n",
       "      <td>4015</td>\n",
       "      <td>1991-11-16</td>\n",
       "      <td>2007-01-24</td>\n",
       "      <td>111</td>\n",
       "      <td>20</td>\n",
       "      <td>88906.524820</td>\n",
       "      <td>33410.777170</td>\n",
       "      <td>5533.966318</td>\n",
       "      <td>3261.268054</td>\n",
       "      <td>1372.759863</td>\n",
       "      <td>12</td>\n",
       "      <td>2002-12-01</td>\n",
       "      <td>0</td>\n",
       "    </tr>\n",
       "    <tr>\n",
       "      <th>3</th>\n",
       "      <td>103807155</td>\n",
       "      <td>4015</td>\n",
       "      <td>1992-10-13</td>\n",
       "      <td>2010-05-25</td>\n",
       "      <td>106</td>\n",
       "      <td>20</td>\n",
       "      <td>115663.536961</td>\n",
       "      <td>35299.418047</td>\n",
       "      <td>3548.046346</td>\n",
       "      <td>394.057076</td>\n",
       "      <td>3083.742767</td>\n",
       "      <td>3</td>\n",
       "      <td>2002-12-01</td>\n",
       "      <td>0</td>\n",
       "    </tr>\n",
       "    <tr>\n",
       "      <th>4</th>\n",
       "      <td>106977991</td>\n",
       "      <td>4015</td>\n",
       "      <td>1991-09-13</td>\n",
       "      <td>1998-08-05</td>\n",
       "      <td>75</td>\n",
       "      <td>15</td>\n",
       "      <td>82153.702496</td>\n",
       "      <td>32676.704921</td>\n",
       "      <td>7189.802411</td>\n",
       "      <td>7869.917926</td>\n",
       "      <td>2106.719340</td>\n",
       "      <td>6</td>\n",
       "      <td>2012-03-01</td>\n",
       "      <td>0</td>\n",
       "    </tr>\n",
       "  </tbody>\n",
       "</table>\n",
       "</div>"
      ],
      "text/plain": [
       "   Policy Number  Branch        DOC Claim Due Date  Plan  Policy Term  \\\n",
       "0      100614068    4015 2004-06-09     2007-03-08    14           20   \n",
       "1      102314313    4015 2012-08-29     2014-02-21   111            8   \n",
       "2      103484630    4015 1991-11-16     2007-01-24   111           20   \n",
       "3      103807155    4015 1992-10-13     2010-05-25   106           20   \n",
       "4      106977991    4015 1991-09-13     1998-08-05    75           15   \n",
       "\n",
       "    Claim Amount  Vested Bonus  Interim Bonus  Final Additional Bonus  \\\n",
       "0   38563.221899  33701.647606    9339.244017             6089.621520   \n",
       "1   51666.039139  48711.268825    8972.874719             8406.386946   \n",
       "2   88906.524820  33410.777170    5533.966318             3261.268054   \n",
       "3  115663.536961  35299.418047    3548.046346              394.057076   \n",
       "4   82153.702496  32676.704921    7189.802411             7869.917926   \n",
       "\n",
       "       Premium  Mode Master FUP  Anomaly Flag  \n",
       "0  4063.435561     3 2001-12-01             0  \n",
       "1  3294.850477     3 1997-12-01             0  \n",
       "2  1372.759863    12 2002-12-01             0  \n",
       "3  3083.742767     3 2002-12-01             0  \n",
       "4  2106.719340     6 2012-03-01             0  "
      ]
     },
     "execution_count": 5,
     "metadata": {},
     "output_type": "execute_result"
    }
   ],
   "source": [
    "df.head()"
   ]
  },
  {
   "cell_type": "code",
   "execution_count": 6,
   "id": "602a3380-4710-4137-9638-69b6774bec77",
   "metadata": {},
   "outputs": [
    {
     "name": "stdout",
     "output_type": "stream",
     "text": [
      "<class 'pandas.core.frame.DataFrame'>\n",
      "RangeIndex: 660 entries, 0 to 659\n",
      "Data columns (total 14 columns):\n",
      " #   Column                  Non-Null Count  Dtype         \n",
      "---  ------                  --------------  -----         \n",
      " 0   Policy Number           660 non-null    int64         \n",
      " 1   Branch                  660 non-null    int64         \n",
      " 2   DOC                     660 non-null    datetime64[ns]\n",
      " 3   Claim Due Date          660 non-null    datetime64[ns]\n",
      " 4   Plan                    660 non-null    int64         \n",
      " 5   Policy Term             660 non-null    int64         \n",
      " 6   Claim Amount            660 non-null    float64       \n",
      " 7   Vested Bonus            660 non-null    float64       \n",
      " 8   Interim Bonus           660 non-null    float64       \n",
      " 9   Final Additional Bonus  660 non-null    float64       \n",
      " 10  Premium                 660 non-null    float64       \n",
      " 11  Mode                    660 non-null    int64         \n",
      " 12  Master FUP              660 non-null    datetime64[ns]\n",
      " 13  Anomaly Flag            660 non-null    int64         \n",
      "dtypes: datetime64[ns](3), float64(5), int64(6)\n",
      "memory usage: 72.3 KB\n"
     ]
    }
   ],
   "source": [
    "df.info()"
   ]
  },
  {
   "cell_type": "code",
   "execution_count": 7,
   "id": "668e5277-a406-4cde-860c-6cd8713b905b",
   "metadata": {},
   "outputs": [
    {
     "data": {
      "text/plain": [
       "Policy Number             0\n",
       "Branch                    0\n",
       "DOC                       0\n",
       "Claim Due Date            0\n",
       "Plan                      0\n",
       "Policy Term               0\n",
       "Claim Amount              0\n",
       "Vested Bonus              0\n",
       "Interim Bonus             0\n",
       "Final Additional Bonus    0\n",
       "Premium                   0\n",
       "Mode                      0\n",
       "Master FUP                0\n",
       "Anomaly Flag              0\n",
       "dtype: int64"
      ]
     },
     "execution_count": 7,
     "metadata": {},
     "output_type": "execute_result"
    }
   ],
   "source": [
    "df.isnull().sum()"
   ]
  },
  {
   "cell_type": "code",
   "execution_count": 8,
   "id": "a59b2679-9c58-45dd-9b5a-30a0afb01ed6",
   "metadata": {},
   "outputs": [
    {
     "name": "stdout",
     "output_type": "stream",
     "text": [
      "<class 'pandas.core.frame.DataFrame'>\n",
      "RangeIndex: 660 entries, 0 to 659\n",
      "Data columns (total 14 columns):\n",
      " #   Column                  Non-Null Count  Dtype         \n",
      "---  ------                  --------------  -----         \n",
      " 0   Policy Number           660 non-null    int64         \n",
      " 1   Branch                  660 non-null    int64         \n",
      " 2   DOC                     660 non-null    datetime64[ns]\n",
      " 3   Claim Due Date          660 non-null    datetime64[ns]\n",
      " 4   Plan                    660 non-null    int64         \n",
      " 5   Policy Term             660 non-null    int64         \n",
      " 6   Claim Amount            660 non-null    float64       \n",
      " 7   Vested Bonus            660 non-null    float64       \n",
      " 8   Interim Bonus           660 non-null    float64       \n",
      " 9   Final Additional Bonus  660 non-null    float64       \n",
      " 10  Premium                 660 non-null    float64       \n",
      " 11  Mode                    660 non-null    int64         \n",
      " 12  Master FUP              660 non-null    datetime64[ns]\n",
      " 13  Anomaly Flag            660 non-null    int64         \n",
      "dtypes: datetime64[ns](3), float64(5), int64(6)\n",
      "memory usage: 72.3 KB\n"
     ]
    }
   ],
   "source": [
    "df.info()"
   ]
  },
  {
   "cell_type": "code",
   "execution_count": 9,
   "id": "24ee266a-dbdf-444d-9442-aae2e26aed81",
   "metadata": {},
   "outputs": [],
   "source": [
    "df.drop(\"Anomaly Flag\", axis=1, inplace=True)"
   ]
  },
  {
   "cell_type": "code",
   "execution_count": 10,
   "id": "06c348fd-d01e-4e97-be74-5763a02eb5a5",
   "metadata": {},
   "outputs": [
    {
     "data": {
      "text/html": [
       "<div>\n",
       "<style scoped>\n",
       "    .dataframe tbody tr th:only-of-type {\n",
       "        vertical-align: middle;\n",
       "    }\n",
       "\n",
       "    .dataframe tbody tr th {\n",
       "        vertical-align: top;\n",
       "    }\n",
       "\n",
       "    .dataframe thead th {\n",
       "        text-align: right;\n",
       "    }\n",
       "</style>\n",
       "<table border=\"1\" class=\"dataframe\">\n",
       "  <thead>\n",
       "    <tr style=\"text-align: right;\">\n",
       "      <th></th>\n",
       "      <th>Policy Number</th>\n",
       "      <th>Branch</th>\n",
       "      <th>DOC</th>\n",
       "      <th>Claim Due Date</th>\n",
       "      <th>Plan</th>\n",
       "      <th>Policy Term</th>\n",
       "      <th>Claim Amount</th>\n",
       "      <th>Vested Bonus</th>\n",
       "      <th>Interim Bonus</th>\n",
       "      <th>Final Additional Bonus</th>\n",
       "      <th>Premium</th>\n",
       "      <th>Mode</th>\n",
       "      <th>Master FUP</th>\n",
       "    </tr>\n",
       "  </thead>\n",
       "  <tbody>\n",
       "    <tr>\n",
       "      <th>0</th>\n",
       "      <td>100614068</td>\n",
       "      <td>4015</td>\n",
       "      <td>2004-06-09</td>\n",
       "      <td>2007-03-08</td>\n",
       "      <td>14</td>\n",
       "      <td>20</td>\n",
       "      <td>38563.221899</td>\n",
       "      <td>33701.647606</td>\n",
       "      <td>9339.244017</td>\n",
       "      <td>6089.621520</td>\n",
       "      <td>4063.435561</td>\n",
       "      <td>3</td>\n",
       "      <td>2001-12-01</td>\n",
       "    </tr>\n",
       "    <tr>\n",
       "      <th>1</th>\n",
       "      <td>102314313</td>\n",
       "      <td>4015</td>\n",
       "      <td>2012-08-29</td>\n",
       "      <td>2014-02-21</td>\n",
       "      <td>111</td>\n",
       "      <td>8</td>\n",
       "      <td>51666.039139</td>\n",
       "      <td>48711.268825</td>\n",
       "      <td>8972.874719</td>\n",
       "      <td>8406.386946</td>\n",
       "      <td>3294.850477</td>\n",
       "      <td>3</td>\n",
       "      <td>1997-12-01</td>\n",
       "    </tr>\n",
       "    <tr>\n",
       "      <th>2</th>\n",
       "      <td>103484630</td>\n",
       "      <td>4015</td>\n",
       "      <td>1991-11-16</td>\n",
       "      <td>2007-01-24</td>\n",
       "      <td>111</td>\n",
       "      <td>20</td>\n",
       "      <td>88906.524820</td>\n",
       "      <td>33410.777170</td>\n",
       "      <td>5533.966318</td>\n",
       "      <td>3261.268054</td>\n",
       "      <td>1372.759863</td>\n",
       "      <td>12</td>\n",
       "      <td>2002-12-01</td>\n",
       "    </tr>\n",
       "    <tr>\n",
       "      <th>3</th>\n",
       "      <td>103807155</td>\n",
       "      <td>4015</td>\n",
       "      <td>1992-10-13</td>\n",
       "      <td>2010-05-25</td>\n",
       "      <td>106</td>\n",
       "      <td>20</td>\n",
       "      <td>115663.536961</td>\n",
       "      <td>35299.418047</td>\n",
       "      <td>3548.046346</td>\n",
       "      <td>394.057076</td>\n",
       "      <td>3083.742767</td>\n",
       "      <td>3</td>\n",
       "      <td>2002-12-01</td>\n",
       "    </tr>\n",
       "    <tr>\n",
       "      <th>4</th>\n",
       "      <td>106977991</td>\n",
       "      <td>4015</td>\n",
       "      <td>1991-09-13</td>\n",
       "      <td>1998-08-05</td>\n",
       "      <td>75</td>\n",
       "      <td>15</td>\n",
       "      <td>82153.702496</td>\n",
       "      <td>32676.704921</td>\n",
       "      <td>7189.802411</td>\n",
       "      <td>7869.917926</td>\n",
       "      <td>2106.719340</td>\n",
       "      <td>6</td>\n",
       "      <td>2012-03-01</td>\n",
       "    </tr>\n",
       "  </tbody>\n",
       "</table>\n",
       "</div>"
      ],
      "text/plain": [
       "   Policy Number  Branch        DOC Claim Due Date  Plan  Policy Term  \\\n",
       "0      100614068    4015 2004-06-09     2007-03-08    14           20   \n",
       "1      102314313    4015 2012-08-29     2014-02-21   111            8   \n",
       "2      103484630    4015 1991-11-16     2007-01-24   111           20   \n",
       "3      103807155    4015 1992-10-13     2010-05-25   106           20   \n",
       "4      106977991    4015 1991-09-13     1998-08-05    75           15   \n",
       "\n",
       "    Claim Amount  Vested Bonus  Interim Bonus  Final Additional Bonus  \\\n",
       "0   38563.221899  33701.647606    9339.244017             6089.621520   \n",
       "1   51666.039139  48711.268825    8972.874719             8406.386946   \n",
       "2   88906.524820  33410.777170    5533.966318             3261.268054   \n",
       "3  115663.536961  35299.418047    3548.046346              394.057076   \n",
       "4   82153.702496  32676.704921    7189.802411             7869.917926   \n",
       "\n",
       "       Premium  Mode Master FUP  \n",
       "0  4063.435561     3 2001-12-01  \n",
       "1  3294.850477     3 1997-12-01  \n",
       "2  1372.759863    12 2002-12-01  \n",
       "3  3083.742767     3 2002-12-01  \n",
       "4  2106.719340     6 2012-03-01  "
      ]
     },
     "execution_count": 10,
     "metadata": {},
     "output_type": "execute_result"
    }
   ],
   "source": [
    "df.head()"
   ]
  },
  {
   "cell_type": "code",
   "execution_count": 11,
   "id": "2f3a055f-4d36-4e04-b256-16b32b17ee9c",
   "metadata": {},
   "outputs": [
    {
     "data": {
      "text/html": [
       "<div>\n",
       "<style scoped>\n",
       "    .dataframe tbody tr th:only-of-type {\n",
       "        vertical-align: middle;\n",
       "    }\n",
       "\n",
       "    .dataframe tbody tr th {\n",
       "        vertical-align: top;\n",
       "    }\n",
       "\n",
       "    .dataframe thead th {\n",
       "        text-align: right;\n",
       "    }\n",
       "</style>\n",
       "<table border=\"1\" class=\"dataframe\">\n",
       "  <thead>\n",
       "    <tr style=\"text-align: right;\">\n",
       "      <th></th>\n",
       "      <th>Policy Number</th>\n",
       "      <th>Branch</th>\n",
       "      <th>DOC</th>\n",
       "      <th>Claim Due Date</th>\n",
       "      <th>Plan</th>\n",
       "      <th>Policy Term</th>\n",
       "      <th>Claim Amount</th>\n",
       "      <th>Vested Bonus</th>\n",
       "      <th>Interim Bonus</th>\n",
       "      <th>Final Additional Bonus</th>\n",
       "      <th>Premium</th>\n",
       "      <th>Mode</th>\n",
       "      <th>Master FUP</th>\n",
       "    </tr>\n",
       "  </thead>\n",
       "  <tbody>\n",
       "    <tr>\n",
       "      <th>count</th>\n",
       "      <td>6.600000e+02</td>\n",
       "      <td>660.0</td>\n",
       "      <td>660</td>\n",
       "      <td>660</td>\n",
       "      <td>660.000000</td>\n",
       "      <td>660.000000</td>\n",
       "      <td>660.000000</td>\n",
       "      <td>660.000000</td>\n",
       "      <td>660.000000</td>\n",
       "      <td>660.000000</td>\n",
       "      <td>660.000000</td>\n",
       "      <td>660.000000</td>\n",
       "      <td>660</td>\n",
       "    </tr>\n",
       "    <tr>\n",
       "      <th>mean</th>\n",
       "      <td>5.368162e+08</td>\n",
       "      <td>4015.0</td>\n",
       "      <td>2002-11-13 12:00:00</td>\n",
       "      <td>2007-10-29 14:45:49.090909184</td>\n",
       "      <td>223.871212</td>\n",
       "      <td>14.446970</td>\n",
       "      <td>89360.678463</td>\n",
       "      <td>24969.385179</td>\n",
       "      <td>4965.241710</td>\n",
       "      <td>4908.834035</td>\n",
       "      <td>3033.502710</td>\n",
       "      <td>7.040909</td>\n",
       "      <td>2003-06-30 14:28:21.818181760</td>\n",
       "    </tr>\n",
       "    <tr>\n",
       "      <th>min</th>\n",
       "      <td>1.006141e+08</td>\n",
       "      <td>4015.0</td>\n",
       "      <td>1990-01-03 00:00:00</td>\n",
       "      <td>1990-01-07 00:00:00</td>\n",
       "      <td>14.000000</td>\n",
       "      <td>8.000000</td>\n",
       "      <td>10725.402497</td>\n",
       "      <td>0.000000</td>\n",
       "      <td>0.000000</td>\n",
       "      <td>0.000000</td>\n",
       "      <td>193.000000</td>\n",
       "      <td>3.000000</td>\n",
       "      <td>1997-12-01 00:00:00</td>\n",
       "    </tr>\n",
       "    <tr>\n",
       "      <th>25%</th>\n",
       "      <td>3.231482e+08</td>\n",
       "      <td>4015.0</td>\n",
       "      <td>1995-02-12 00:00:00</td>\n",
       "      <td>2001-08-13 12:00:00</td>\n",
       "      <td>75.000000</td>\n",
       "      <td>8.000000</td>\n",
       "      <td>55757.494889</td>\n",
       "      <td>13068.237401</td>\n",
       "      <td>2429.554864</td>\n",
       "      <td>2261.500676</td>\n",
       "      <td>2041.618086</td>\n",
       "      <td>3.000000</td>\n",
       "      <td>2001-12-01 00:00:00</td>\n",
       "    </tr>\n",
       "    <tr>\n",
       "      <th>50%</th>\n",
       "      <td>5.315294e+08</td>\n",
       "      <td>4015.0</td>\n",
       "      <td>2002-05-17 12:00:00</td>\n",
       "      <td>2008-12-19 00:00:00</td>\n",
       "      <td>106.000000</td>\n",
       "      <td>15.000000</td>\n",
       "      <td>87340.890238</td>\n",
       "      <td>25008.104368</td>\n",
       "      <td>4972.761946</td>\n",
       "      <td>4893.369514</td>\n",
       "      <td>3043.877088</td>\n",
       "      <td>6.000000</td>\n",
       "      <td>2002-12-01 00:00:00</td>\n",
       "    </tr>\n",
       "    <tr>\n",
       "      <th>75%</th>\n",
       "      <td>7.572095e+08</td>\n",
       "      <td>4015.0</td>\n",
       "      <td>2009-08-21 12:00:00</td>\n",
       "      <td>2014-11-27 00:00:00</td>\n",
       "      <td>111.000000</td>\n",
       "      <td>20.000000</td>\n",
       "      <td>121159.523297</td>\n",
       "      <td>36438.648823</td>\n",
       "      <td>7526.236852</td>\n",
       "      <td>7458.618681</td>\n",
       "      <td>3986.364273</td>\n",
       "      <td>12.000000</td>\n",
       "      <td>2003-09-01 00:00:00</td>\n",
       "    </tr>\n",
       "    <tr>\n",
       "      <th>max</th>\n",
       "      <td>9.978354e+08</td>\n",
       "      <td>4015.0</td>\n",
       "      <td>2019-10-04 00:00:00</td>\n",
       "      <td>2019-12-22 00:00:00</td>\n",
       "      <td>801.000000</td>\n",
       "      <td>20.000000</td>\n",
       "      <td>198017.318405</td>\n",
       "      <td>49978.600351</td>\n",
       "      <td>9998.995526</td>\n",
       "      <td>9974.690996</td>\n",
       "      <td>20000.000000</td>\n",
       "      <td>12.000000</td>\n",
       "      <td>2012-03-01 00:00:00</td>\n",
       "    </tr>\n",
       "    <tr>\n",
       "      <th>std</th>\n",
       "      <td>2.566467e+08</td>\n",
       "      <td>0.0</td>\n",
       "      <td>NaN</td>\n",
       "      <td>NaN</td>\n",
       "      <td>293.504770</td>\n",
       "      <td>4.887062</td>\n",
       "      <td>42786.075945</td>\n",
       "      <td>14305.343440</td>\n",
       "      <td>2946.656550</td>\n",
       "      <td>2966.336216</td>\n",
       "      <td>1300.846029</td>\n",
       "      <td>3.749739</td>\n",
       "      <td>NaN</td>\n",
       "    </tr>\n",
       "  </tbody>\n",
       "</table>\n",
       "</div>"
      ],
      "text/plain": [
       "       Policy Number  Branch                  DOC  \\\n",
       "count   6.600000e+02   660.0                  660   \n",
       "mean    5.368162e+08  4015.0  2002-11-13 12:00:00   \n",
       "min     1.006141e+08  4015.0  1990-01-03 00:00:00   \n",
       "25%     3.231482e+08  4015.0  1995-02-12 00:00:00   \n",
       "50%     5.315294e+08  4015.0  2002-05-17 12:00:00   \n",
       "75%     7.572095e+08  4015.0  2009-08-21 12:00:00   \n",
       "max     9.978354e+08  4015.0  2019-10-04 00:00:00   \n",
       "std     2.566467e+08     0.0                  NaN   \n",
       "\n",
       "                      Claim Due Date        Plan  Policy Term   Claim Amount  \\\n",
       "count                            660  660.000000   660.000000     660.000000   \n",
       "mean   2007-10-29 14:45:49.090909184  223.871212    14.446970   89360.678463   \n",
       "min              1990-01-07 00:00:00   14.000000     8.000000   10725.402497   \n",
       "25%              2001-08-13 12:00:00   75.000000     8.000000   55757.494889   \n",
       "50%              2008-12-19 00:00:00  106.000000    15.000000   87340.890238   \n",
       "75%              2014-11-27 00:00:00  111.000000    20.000000  121159.523297   \n",
       "max              2019-12-22 00:00:00  801.000000    20.000000  198017.318405   \n",
       "std                              NaN  293.504770     4.887062   42786.075945   \n",
       "\n",
       "       Vested Bonus  Interim Bonus  Final Additional Bonus       Premium  \\\n",
       "count    660.000000     660.000000              660.000000    660.000000   \n",
       "mean   24969.385179    4965.241710             4908.834035   3033.502710   \n",
       "min        0.000000       0.000000                0.000000    193.000000   \n",
       "25%    13068.237401    2429.554864             2261.500676   2041.618086   \n",
       "50%    25008.104368    4972.761946             4893.369514   3043.877088   \n",
       "75%    36438.648823    7526.236852             7458.618681   3986.364273   \n",
       "max    49978.600351    9998.995526             9974.690996  20000.000000   \n",
       "std    14305.343440    2946.656550             2966.336216   1300.846029   \n",
       "\n",
       "             Mode                     Master FUP  \n",
       "count  660.000000                            660  \n",
       "mean     7.040909  2003-06-30 14:28:21.818181760  \n",
       "min      3.000000            1997-12-01 00:00:00  \n",
       "25%      3.000000            2001-12-01 00:00:00  \n",
       "50%      6.000000            2002-12-01 00:00:00  \n",
       "75%     12.000000            2003-09-01 00:00:00  \n",
       "max     12.000000            2012-03-01 00:00:00  \n",
       "std      3.749739                            NaN  "
      ]
     },
     "execution_count": 11,
     "metadata": {},
     "output_type": "execute_result"
    }
   ],
   "source": [
    "df.describe()"
   ]
  },
  {
   "cell_type": "code",
   "execution_count": 12,
   "id": "59d1ce84-e14c-4bf6-a19e-7574610ab9c9",
   "metadata": {},
   "outputs": [
    {
     "data": {
      "text/plain": [
       "array([100614068, 102314313, 103484630, 103807155, 106977991, 107721109,\n",
       "       108399996, 110002396, 110382761, 112327652, 115846122, 116381768,\n",
       "       120912992, 122585366, 126855092, 128492780, 131130659, 131994523,\n",
       "       132495867, 133729406, 134126396, 134467368, 142672287, 146654552,\n",
       "       147337803, 149203558, 150590821, 153839920, 154176732, 154318806,\n",
       "       154466824, 154544899, 157767179, 158165865, 160062915, 161073976,\n",
       "       161380746, 162196678, 162795957, 162959284, 163215224, 165082363,\n",
       "       165452690, 168212356, 168747287, 170185347, 170931315, 171069472,\n",
       "       172370545, 172972420, 173574218, 173864104, 174316370, 174684276,\n",
       "       176082500, 176154050, 176228245, 176496452, 176667861, 177892576,\n",
       "       178663096, 180792472, 180943908, 184337702, 184564737, 184611066,\n",
       "       185675980, 186019028, 188029013, 191969690, 192470197, 193349856,\n",
       "       197613238, 199104722, 199585092, 199767978, 200140141, 200604502,\n",
       "       201281557, 203848421, 204078666, 204435349, 205128697, 205675387,\n",
       "       207354053, 208449460, 209747451, 209924637, 210053353, 210522618,\n",
       "       211225158, 213738160, 214257751, 214870295, 214929002, 217326729,\n",
       "       217734861, 219540831, 219778234, 220117054, 220123666, 221211559,\n",
       "       222900917, 222998994, 223940587, 228727266, 229927269, 234031070,\n",
       "       235034324, 236788265, 237859287, 239665900, 240466536, 240529481,\n",
       "       241514106, 242068763, 242224154, 244193987, 248532577, 249827706,\n",
       "       249926919, 250519597, 251995483, 253407200, 254319982, 260331909,\n",
       "       264109919, 264112119, 266211829, 266910922, 266944844, 269042105,\n",
       "       269110063, 269379374, 269820594, 270746733, 271432881, 271779360,\n",
       "       273461957, 273497327, 274648506, 275452091, 276777762, 277303722,\n",
       "       278575192, 283396760, 283758720, 283905107, 291825997, 292181526,\n",
       "       296873862, 297018781, 299528037, 303901283, 304235259, 304451095,\n",
       "       305718272, 306468299, 312758864, 313500298, 313579170, 315984311,\n",
       "       318610946, 319321646, 321810768, 323594003, 324956459, 326161867,\n",
       "       326541099, 327416584, 328306011, 328872698, 329509408, 330035022,\n",
       "       331191390, 333754555, 334760738, 335493870, 335809993, 336456621,\n",
       "       336696312, 339670711, 340297471, 341266931, 344703907, 345824373,\n",
       "       345938494, 347083812, 348779766, 349817734, 349957310, 352548261,\n",
       "       353568773, 353810544, 355555531, 356168265, 356287095, 357109965,\n",
       "       358633898, 360916298, 361661280, 362298393, 362863730, 362878922,\n",
       "       362950628, 364371717, 364814270, 366186631, 366992705, 368227631,\n",
       "       369639388, 369953851, 377082043, 379995032, 381272327, 382116655,\n",
       "       382811832, 383450553, 383968123, 384027113, 384412919, 384602384,\n",
       "       384756779, 384759615, 385201412, 386501362, 386665249, 387484583,\n",
       "       389854268, 391039983, 392431670, 392760228, 393815375, 395310485,\n",
       "       397083132, 398362082, 398471886, 398704996, 399012686, 399085574,\n",
       "       402533494, 403071541, 404156374, 406002884, 406284028, 410727955,\n",
       "       414797776, 415143362, 418587604, 420452650, 420527459, 421092335,\n",
       "       421455482, 421458838, 421458863, 422119408, 422667054, 423198724,\n",
       "       423769626, 423771120, 423775641, 424396864, 424825305, 428644942,\n",
       "       430190783, 433280534, 434339109, 434702822, 435480597, 436730606,\n",
       "       437352358, 437882805, 438715135, 439492674, 439699535, 441970569,\n",
       "       448059918, 448195935, 448709567, 449899956, 454686942, 454794895,\n",
       "       456838867, 458153605, 461415646, 463016614, 463718119, 464323393,\n",
       "       465260635, 465341213, 465839040, 467435349, 468164906, 469319644,\n",
       "       474322976, 474745382, 476151232, 477356707, 480424119, 481469012,\n",
       "       481848698, 485451171, 488302652, 488690725, 489747629, 490250763,\n",
       "       491735568, 496776692, 497478786, 500957212, 501486939, 506448196,\n",
       "       506919288, 507437181, 507943839, 508157429, 509760584, 511886978,\n",
       "       512119784, 513140753, 519212169, 520817418, 520989391, 524806516,\n",
       "       524971817, 528414718, 528853029, 530373413, 530613729, 530747414,\n",
       "       532311310, 533550699, 535602000, 536383774, 537077308, 541417711,\n",
       "       543929865, 550139320, 550455977, 552991960, 553035110, 553290810,\n",
       "       553778756, 554200826, 554340903, 554811020, 554814084, 557914110,\n",
       "       559225330, 560027313, 562837684, 562942172, 566825638, 567457486,\n",
       "       570406376, 570497096, 574417266, 575808013, 576363024, 578713043,\n",
       "       581695135, 582334538, 584779555, 586708987, 586845604, 587182120,\n",
       "       588561518, 589179779, 590941149, 592080329, 592688426, 593303705,\n",
       "       594967982, 595254481, 596348124, 596743109, 599715752, 600036589,\n",
       "       601463916, 602564736, 602807424, 605244785, 605448473, 607526654,\n",
       "       607850824, 610330567, 610386386, 611947770, 613948760, 616854671,\n",
       "       617945843, 621209849, 621453189, 621828280, 622559454, 623456368,\n",
       "       624557080, 624636385, 629908599, 636045484, 637500247, 639931481,\n",
       "       642621108, 642678844, 643189555, 645098869, 645119047, 645276696,\n",
       "       645406800, 647099690, 651968433, 652070932, 655742829, 661333669,\n",
       "       666585408, 667945747, 668132202, 669462919, 670292350, 671988889,\n",
       "       672031195, 672825087, 673528321, 675770529, 675832441, 676567501,\n",
       "       677280546, 678722458, 678998028, 679064766, 679153816, 680440242,\n",
       "       680451872, 682177668, 682535775, 683275843, 684681287, 685126461,\n",
       "       685582861, 688355778, 689876885, 690347116, 690907304, 692362342,\n",
       "       692749116, 694019365, 694021782, 694768704, 695499669, 696751693,\n",
       "       697161367, 698020238, 700893588, 702269164, 702632297, 702764446,\n",
       "       704509817, 706907788, 709004943, 709038381, 709194872, 709659120,\n",
       "       711684318, 713152854, 716416868, 717056083, 718702544, 719927151,\n",
       "       721609600, 721890096, 726563708, 726713347, 727255918, 727694430,\n",
       "       731691672, 731832764, 732719211, 734036506, 734083157, 734549420,\n",
       "       736467148, 738360085, 738914080, 739830322, 740080432, 740389325,\n",
       "       743111853, 746412689, 748245888, 749012758, 749431082, 751325257,\n",
       "       753876785, 754049436, 756783995, 758486006, 761763552, 762436526,\n",
       "       764130526, 765055833, 766659283, 766964667, 768882058, 771410971,\n",
       "       773715057, 774996843, 775889004, 777641645, 781007818, 781057736,\n",
       "       781802744, 782560971, 784095277, 786066793, 786579303, 787194506,\n",
       "       788227492, 790256940, 791939208, 793101194, 793830224, 795822698,\n",
       "       797343144, 797801251, 797808098, 800235246, 801642483, 802201721,\n",
       "       803771909, 805849060, 807577342, 808402051, 810026086, 810678904,\n",
       "       812308209, 814232253, 817112652, 818309417, 819112790, 819595113,\n",
       "       820341458, 821218382, 821221887, 823019672, 825003955, 825308245,\n",
       "       826600539, 830448745, 830661141, 831980933, 833953718, 834952627,\n",
       "       835098955, 838194420, 838908273, 840739735, 841015965, 841976666,\n",
       "       845241098, 845319806, 847959430, 849621470, 850115402, 850937987,\n",
       "       851205475, 853041955, 853573823, 855420240, 856294020, 856528252,\n",
       "       856641801, 857704655, 860038427, 862588517, 865469134, 865523129,\n",
       "       866944883, 868820204, 869005091, 870530217, 870854579, 871385010,\n",
       "       872751234, 873869166, 875340444, 876693898, 881913386, 882839238,\n",
       "       882893941, 883543540, 883757514, 884374109, 885879795, 889991777,\n",
       "       890779946, 895285932, 895890631, 896233790, 897163846, 899925830,\n",
       "       902099969, 903132646, 906248900, 907308348, 909134796, 910959828,\n",
       "       911472797, 911514914, 914328532, 914763202, 916690353, 918150683,\n",
       "       918739736, 919795579, 920798622, 922308461, 923016120, 924570922,\n",
       "       924970419, 925276600, 927982963, 930075810, 933223566, 936043811,\n",
       "       941128035, 941889393, 942150718, 942478695, 943026227, 945385686,\n",
       "       946944681, 950488739, 950866243, 955512146, 959629660, 961517287,\n",
       "       963291475, 964411347, 965241839, 966267851, 966616964, 966647391,\n",
       "       967043303, 967607278, 968979067, 969119330, 972792130, 973935331,\n",
       "       976198296, 977358886, 977721640, 977840731, 982403818, 990505735,\n",
       "       990566476, 992994062, 995226828, 995619255, 997677788, 997835424],\n",
       "      dtype=int64)"
      ]
     },
     "execution_count": 12,
     "metadata": {},
     "output_type": "execute_result"
    }
   ],
   "source": [
    "df['Policy Number'].unique()"
   ]
  },
  {
   "cell_type": "code",
   "execution_count": 13,
   "id": "61e4bfcd-a76c-444c-aa2b-ef8f0a52d89b",
   "metadata": {},
   "outputs": [
    {
     "data": {
      "text/plain": [
       "660"
      ]
     },
     "execution_count": 13,
     "metadata": {},
     "output_type": "execute_result"
    }
   ],
   "source": [
    "len(df['Policy Number'].unique())"
   ]
  },
  {
   "cell_type": "markdown",
   "id": "2715e3a4-ac71-4cc2-a0cc-9f0037749ee1",
   "metadata": {},
   "source": [
    "We can see that there are 660 unique labels in the status_id variable. The total number of instances in the dataset is 660. So, it is approximately a unique identifier for each of the instances. Thus this is not a variable that we can use. Hence, I will drop it."
   ]
  },
  {
   "cell_type": "code",
   "execution_count": 14,
   "id": "5c70f0e6-e2ed-4b8c-9029-2aa38d0e7915",
   "metadata": {},
   "outputs": [
    {
     "data": {
      "text/plain": [
       "array([ 14, 111, 106,  75, 801], dtype=int64)"
      ]
     },
     "execution_count": 14,
     "metadata": {},
     "output_type": "execute_result"
    }
   ],
   "source": [
    "df['Plan'].unique()"
   ]
  },
  {
   "cell_type": "code",
   "execution_count": 15,
   "id": "7f59f477-264d-494b-a4b7-b643448214ef",
   "metadata": {},
   "outputs": [
    {
     "data": {
      "text/plain": [
       "5"
      ]
     },
     "execution_count": 15,
     "metadata": {},
     "output_type": "execute_result"
    }
   ],
   "source": [
    "len(df['Plan'].unique())"
   ]
  },
  {
   "cell_type": "code",
   "execution_count": 16,
   "id": "3d15608c-97a3-45c2-86c6-217939572f0c",
   "metadata": {},
   "outputs": [
    {
     "data": {
      "text/plain": [
       "5"
      ]
     },
     "execution_count": 16,
     "metadata": {},
     "output_type": "execute_result"
    }
   ],
   "source": [
    "len(df['Policy Term'].unique())"
   ]
  },
  {
   "cell_type": "code",
   "execution_count": 17,
   "id": "bc32256b-b51e-44be-9a3c-f380b33e5c86",
   "metadata": {},
   "outputs": [
    {
     "data": {
      "text/plain": [
       "655"
      ]
     },
     "execution_count": 17,
     "metadata": {},
     "output_type": "execute_result"
    }
   ],
   "source": [
    "len(df['Claim Amount'].unique())"
   ]
  },
  {
   "cell_type": "code",
   "execution_count": 18,
   "id": "53a33884-c9f8-44d7-9b14-93a9ff1edfa6",
   "metadata": {},
   "outputs": [
    {
     "data": {
      "text/plain": [
       "655"
      ]
     },
     "execution_count": 18,
     "metadata": {},
     "output_type": "execute_result"
    }
   ],
   "source": [
    "len(df['Vested Bonus'].unique())"
   ]
  },
  {
   "cell_type": "code",
   "execution_count": 19,
   "id": "4c9f6be6-4dbf-487b-92c3-034530009f17",
   "metadata": {},
   "outputs": [
    {
     "data": {
      "text/plain": [
       "655"
      ]
     },
     "execution_count": 19,
     "metadata": {},
     "output_type": "execute_result"
    }
   ],
   "source": [
    "len(df['Interim Bonus'].unique())"
   ]
  },
  {
   "cell_type": "code",
   "execution_count": 20,
   "id": "11b01401-c77d-46e2-9e22-d622579cb887",
   "metadata": {},
   "outputs": [
    {
     "data": {
      "text/plain": [
       "651"
      ]
     },
     "execution_count": 20,
     "metadata": {},
     "output_type": "execute_result"
    }
   ],
   "source": [
    "len(df['Final Additional Bonus'].unique())"
   ]
  },
  {
   "cell_type": "code",
   "execution_count": 21,
   "id": "ab29209e-6496-4829-afd4-14268de09e66",
   "metadata": {},
   "outputs": [
    {
     "data": {
      "text/plain": [
       "660"
      ]
     },
     "execution_count": 21,
     "metadata": {},
     "output_type": "execute_result"
    }
   ],
   "source": [
    "len(df['Premium'].unique())"
   ]
  },
  {
   "cell_type": "code",
   "execution_count": 22,
   "id": "b746fb0b-ee5d-4d6d-8750-3da82e7eca0e",
   "metadata": {},
   "outputs": [
    {
     "data": {
      "text/plain": [
       "3"
      ]
     },
     "execution_count": 22,
     "metadata": {},
     "output_type": "execute_result"
    }
   ],
   "source": [
    "len(df['Mode'].unique())"
   ]
  },
  {
   "cell_type": "markdown",
   "id": "fe902870-3863-40e0-bd45-1d8d67d91ac4",
   "metadata": {},
   "source": [
    "# Declare feature vector and target variable"
   ]
  },
  {
   "cell_type": "code",
   "execution_count": 23,
   "id": "5d9378dc-cb0f-4e0d-b7eb-fcbf7ecbfaa1",
   "metadata": {},
   "outputs": [
    {
     "data": {
      "text/plain": [
       "array([[ 14,  20,   3],\n",
       "       [111,   8,   3],\n",
       "       [111,  20,  12],\n",
       "       ...,\n",
       "       [801,   8,   3],\n",
       "       [111,  15,  12],\n",
       "       [ 75,  20,   3]], dtype=int64)"
      ]
     },
     "execution_count": 23,
     "metadata": {},
     "output_type": "execute_result"
    }
   ],
   "source": [
    "X = df.iloc[:,[4,5,11]].values\n",
    "X"
   ]
  },
  {
   "cell_type": "markdown",
   "id": "a5d13459-99b7-492e-bf39-1de5a1d715e5",
   "metadata": {},
   "source": [
    "WCSS -> Within Clusters Sum of Squares"
   ]
  },
  {
   "cell_type": "code",
   "execution_count": 24,
   "id": "7505d19e-9989-4de6-b3c0-1ee63d428451",
   "metadata": {},
   "outputs": [],
   "source": [
    "# finding wcss value for different number of clusters\n",
    "from sklearn.cluster import KMeans\n",
    "wcss = []\n",
    "\n",
    "for i in range(1,11):\n",
    "  kmeans = KMeans(n_clusters=i, init='k-means++', random_state=42)\n",
    "  kmeans.fit(X)\n",
    "\n",
    "  wcss.append(kmeans.inertia_)"
   ]
  },
  {
   "cell_type": "code",
   "execution_count": 25,
   "id": "27e78e22-63c9-40da-a89b-0998bb4152de",
   "metadata": {},
   "outputs": [
    {
     "data": {
      "image/png": "[encoded data removed]",
      "text/plain": [
       "<Figure size 640x480 with 1 Axes>"
      ]
     },
     "metadata": {},
     "output_type": "display_data"
    }
   ],
   "source": [
    "# plot an elbow graph\n",
    "\n",
    "sns.set()\n",
    "plt.plot(range(1,11), wcss)\n",
    "plt.title('The Elbow Point Graph')\n",
    "plt.xlabel('Number of Clusters')\n",
    "plt.ylabel('WCSS')\n",
    "plt.show()"
   ]
  },
  {
   "cell_type": "markdown",
   "id": "4d08c81f-610a-4b66-9c98-c6ecdd0a92cf",
   "metadata": {},
   "source": [
    "Optimum Number of Clusters = 2"
   ]
  },
  {
   "cell_type": "markdown",
   "id": "80583a4c-a7da-49bf-842b-7d2d36b2401e",
   "metadata": {},
   "source": [
    "# Training the k-Means Clustering Model"
   ]
  },
  {
   "cell_type": "code",
   "execution_count": 26,
   "id": "fbcbaa92-fbe4-476a-a513-054ba867925b",
   "metadata": {},
   "outputs": [
    {
     "name": "stdout",
     "output_type": "stream",
     "text": [
      "[0 0 0 0 0 0 1 0 0 0 0 0 0 0 0 0 0 0 0 1 0 0 0 0 0 0 0 0 0 0 0 0 0 0 0 0 0\n",
      " 0 0 1 0 0 0 0 0 1 0 1 0 0 0 0 0 0 0 0 0 0 0 0 0 1 1 0 0 0 0 0 0 1 1 1 0 1\n",
      " 1 0 1 1 1 0 0 0 0 0 0 0 0 0 0 0 0 1 1 0 0 0 0 0 0 1 1 0 0 1 1 0 0 0 0 0 0\n",
      " 0 0 0 0 0 1 0 0 1 0 0 0 0 0 0 0 0 0 1 0 1 1 0 0 0 0 0 0 1 1 0 0 1 1 1 0 1\n",
      " 0 1 0 0 1 0 0 0 1 0 0 0 1 0 0 0 1 0 0 0 0 0 0 0 0 0 0 0 0 0 0 1 1 0 0 0 0\n",
      " 0 0 0 1 0 0 0 1 0 0 1 0 0 1 0 0 0 0 0 1 1 0 0 0 0 0 0 0 0 0 0 0 0 1 1 0 0\n",
      " 0 0 0 0 0 0 0 0 0 0 0 0 0 0 0 0 1 0 0 1 0 0 0 1 0 0 0 0 0 0 0 0 0 1 0 0 0\n",
      " 0 0 0 0 1 0 0 0 0 0 1 1 1 1 0 0 0 0 0 0 0 0 0 0 0 1 0 0 0 1 0 0 0 0 0 0 1\n",
      " 0 0 1 0 0 0 0 0 0 0 0 0 0 0 0 1 0 1 0 0 0 0 0 0 1 0 0 0 0 1 0 0 0 0 0 1 0\n",
      " 0 0 0 1 0 1 0 0 0 0 1 0 0 0 0 0 0 0 1 0 1 0 1 0 0 0 1 0 0 0 0 0 1 0 0 1 0\n",
      " 0 1 0 0 0 1 0 0 0 0 0 1 1 0 1 0 0 0 0 0 1 0 0 0 0 0 0 0 1 0 1 0 0 0 0 0 0\n",
      " 0 0 0 0 1 1 0 0 0 0 1 0 0 0 0 0 0 1 0 1 0 0 0 0 1 0 0 0 0 0 0 0 1 0 0 1 0\n",
      " 0 0 0 0 0 0 0 0 1 0 1 0 1 0 1 1 1 1 0 0 0 0 0 0 1 1 1 0 0 0 0 0 0 0 1 1 0\n",
      " 0 0 0 0 0 1 0 1 0 0 0 0 0 1 0 1 0 0 0 1 0 0 0 0 0 0 0 0 1 1 0 0 0 1 0 0 0\n",
      " 0 0 0 0 0 0 0 0 0 0 0 1 0 0 0 0 1 0 1 0 0 1 0 0 0 0 1 0 0 0 0 0 1 0 0 0 0\n",
      " 0 0 1 0 1 1 0 0 0 0 0 0 0 0 1 0 0 0 0 0 0 0 0 0 0 0 0 0 0 1 0 0 0 0 0 0 0\n",
      " 0 0 0 0 0 0 0 0 0 0 0 1 0 0 0 0 0 0 0 0 0 0 1 0 1 0 1 0 0 0 1 0 0 1 0 0 1\n",
      " 0 0 0 0 0 0 0 0 0 1 1 0 0 1 0 0 0 0 0 0 0 0 1 0 0 0 1 0 1 0 0]\n"
     ]
    }
   ],
   "source": [
    "kmeans = KMeans(n_clusters=2, init='k-means++', random_state=0)\n",
    "\n",
    "# return a label for each data point based on their cluster\n",
    "Y = kmeans.fit_predict(X)\n",
    "\n",
    "print(Y)"
   ]
  },
  {
   "cell_type": "markdown",
   "id": "0b8c4189-7801-49d7-967e-5d494e5343f5",
   "metadata": {},
   "source": [
    "2 Clusters - 0, 1"
   ]
  },
  {
   "cell_type": "markdown",
   "id": "ad6041f5-b845-4a55-84f5-d0b58de56d58",
   "metadata": {},
   "source": [
    "# Visualizing all the Clusters"
   ]
  },
  {
   "cell_type": "code",
   "execution_count": 27,
   "id": "303cf559-6b25-4021-99ad-03586cb95662",
   "metadata": {},
   "outputs": [
    {
     "data": {
      "image/png": "[encoded data removed]",
      "text/plain": [
       "<Figure size 800x800 with 1 Axes>"
      ]
     },
     "metadata": {},
     "output_type": "display_data"
    }
   ],
   "source": [
    "# plotting all the clusters and their Centroids\n",
    "\n",
    "plt.figure(figsize=(8,8))\n",
    "plt.scatter(X[Y==0,0], X[Y==0,1], s=50, c='green', label='Cluster 1')\n",
    "plt.scatter(X[Y==1,0], X[Y==1,1], s=50, c='red', label='Cluster 2')\n",
    "\n",
    "\n",
    "# plot the centroids\n",
    "plt.scatter(kmeans.cluster_centers_[:,0], kmeans.cluster_centers_[:,1], s=100, c='cyan', label='Centroids')\n",
    "\n",
    "plt.title('Maturity claim')\n",
    "plt.xlabel('Policy Term')\n",
    "plt.ylabel('Fraud Analysis')\n",
    "plt.show()"
   ]
  },
  {
   "cell_type": "code",
   "execution_count": 28,
   "id": "710804c8-d541-4fcf-ba90-ff4fcf5f34f2",
   "metadata": {},
   "outputs": [
    {
     "name": "stdout",
     "output_type": "stream",
     "text": [
      "Silhouette Score: 0.9511947419076168\n",
      "Davies-Bouldin Index: 0.05337341075907534\n",
      "Calinski-Harabasz Index: 46530.12993325571\n",
      "Dunn Index: 7.029845328862279\n"
     ]
    }
   ],
   "source": [
    "from sklearn.metrics import silhouette_score, davies_bouldin_score, calinski_harabasz_score\n",
    "from sklearn.metrics import pairwise_distances\n",
    "\n",
    "\n",
    "silhouette = silhouette_score(X, Y)\n",
    "\n",
    "davies_bouldin = davies_bouldin_score(X, Y)\n",
    "\n",
    "calinski_harabasz = calinski_harabasz_score(X, Y)\n",
    "\n",
    "distances = pairwise_distances(X)\n",
    "\n",
    "min_inter_cluster_dist = np.min([np.min(distances[Y == i][:, Y != i]) for i in range(len(set(Y)))])\n",
    "\n",
    "max_intra_cluster_dist = np.max([np.max(distances[Y == i][:, Y == i]) for i in range(len(set(Y)))])\n",
    "dunn_index = min_inter_cluster_dist / max_intra_cluster_dist\n",
    "\n",
    "print(\"Silhouette Score:\", silhouette)\n",
    "print(\"Davies-Bouldin Index:\", davies_bouldin)\n",
    "print(\"Calinski-Harabasz Index:\", calinski_harabasz)\n",
    "print(\"Dunn Index:\", dunn_index)"
   ]
  },
  {
   "cell_type": "code",
   "execution_count": null,
   "id": "4199a186-7751-4b01-936b-28cc4af38639",
   "metadata": {},
   "outputs": [],
   "source": []
  }
 ],
 "metadata": {
  "kernelspec": {
   "display_name": "Python 3 (ipykernel)",
   "language": "python",
   "name": "python3"
  },
  "language_info": {
   "codemirror_mode": {
    "name": "ipython",
    "version": 3
   },
   "file_extension": ".py",
   "mimetype": "text/x-python",
   "name": "python",
   "nbconvert_exporter": "python",
   "pygments_lexer": "ipython3",
   "version": "3.12.1"
  }
 },
 "nbformat": 4,
 "nbformat_minor": 5
}
